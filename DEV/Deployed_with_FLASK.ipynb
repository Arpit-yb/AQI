{
  "nbformat": 4,
  "nbformat_minor": 0,
  "metadata": {
    "kernelspec": {
      "display_name": "Python 3",
      "language": "python",
      "name": "python3"
    },
    "language_info": {
      "codemirror_mode": {
        "name": "ipython",
        "version": 3
      },
      "file_extension": ".py",
      "mimetype": "text/x-python",
      "name": "python",
      "nbconvert_exporter": "python",
      "pygments_lexer": "ipython3",
      "version": "3.7.6"
    },
    "colab": {
      "name": "Deployed with FLASK.ipynb",
      "provenance": [],
      "collapsed_sections": []
    }
  },
  "cells": [
    {
      "cell_type": "code",
      "metadata": {
        "id": "Cpg7SCIiKA6C",
        "colab_type": "code",
        "colab": {}
      },
      "source": [
        "from flask import Flask, request, jsonify, render_template, session, url_for, redirect\n",
        "import numpy as np\n",
        "from flask_wtf import FlaskForm\n",
        "from wtforms import TextField, SubmitField\n",
        "import tensorflow\n",
        "from keras.models import load_model\n",
        "import joblib\n",
        "\n",
        "\n",
        "from tensorflow.keras.models import load_model\n",
        "import joblib"
      ],
      "execution_count": null,
      "outputs": []
    },
    {
      "cell_type": "code",
      "metadata": {
        "id": "7AYtkiHiKA6M",
        "colab_type": "code",
        "colab": {}
      },
      "source": [
        ""
      ],
      "execution_count": null,
      "outputs": []
    },
    {
      "cell_type": "code",
      "metadata": {
        "id": "M4pNwwPCKA6S",
        "colab_type": "code",
        "colab": {}
      },
      "source": [
        ""
      ],
      "execution_count": null,
      "outputs": []
    },
    {
      "cell_type": "code",
      "metadata": {
        "id": "eOK1MbilKA6a",
        "colab_type": "code",
        "colab": {}
      },
      "source": [
        "def return_prediction(model, scaler, sample_json):\n",
        "\n",
        "    T = sample_json[\"T\"]\n",
        "    TM = sample_json[\"TM\"]\n",
        "    Tm = sample_json[\"Tm\"]\n",
        "    SLP = sample_json[\"SLP\"]\n",
        "    H = sample_json[\"H\"]\n",
        "    VV = sample_json[\"VV\"]\n",
        "    V = sample_json[\"V\"]\n",
        "    VM = sample_json[\"VM\"]\n",
        "\n",
        "    air = [[T,TM,Tm,SLP,H,VV,V,Vm]]\n",
        "    air = scaler.transform(air)\n",
        "\n",
        "    \n",
        "    return model.predict(air)[0]"
      ],
      "execution_count": null,
      "outputs": []
    },
    {
      "cell_type": "code",
      "metadata": {
        "id": "QqgSvkeVKA6j",
        "colab_type": "code",
        "colab": {}
      },
      "source": [
        "app = Flask(__name__)\n",
        "app.config['AIR_QUALITY'] = 'airquality'"
      ],
      "execution_count": null,
      "outputs": []
    },
    {
      "cell_type": "code",
      "metadata": {
        "id": "lF6sYni8KA6q",
        "colab_type": "code",
        "colab": {}
      },
      "source": [
        "class AirForm(FlaskForm):\n",
        "    t = TextField(\"AVG. ANNUAL TEMPERATURE\")\n",
        "    tM = TextField(\"ANNUAL AVERAGE MAXIMUM TEMPERATURE\")\n",
        "    tm = TextField(\"AVG. ANNUAL MINIMUM TEMPERATURE\")\n",
        "    slp = TextField(\"AIR PRESSURE\")\n",
        "    h = TextField(\"AVERAGE RELATIVE HUMIDITY\")\n",
        "    vv = TextField(\"AVERAGE VISIBILITY\")\n",
        "    v = TextField(\"ANNUAL AVERAGE WIND SPEED\")\n",
        "    vm = TextField(\"MERCURY VAPOUR\")\n",
        "\n",
        "    submit = SubmitField(\"Analyse\")"
      ],
      "execution_count": null,
      "outputs": []
    },
    {
      "cell_type": "code",
      "metadata": {
        "id": "IMsObafFKA6w",
        "colab_type": "code",
        "colab": {}
      },
      "source": [
        "@app.route(\"/\", methods=['GET', 'POST'])\n",
        "def index():\n",
        "    form = AirForm()\n",
        "    if form.validate_on_submit():\n",
        "        session['t'] = form.t.data\n",
        "        session['tM'] = form.tM.data\n",
        "        session['tm'] = form.tm.data\n",
        "        session['slp'] = form.slp.data\n",
        "        session['h'] = form.h.data\n",
        "        session['vv'] = form.vv.data\n",
        "        session['v'] = form.v.data\n",
        "        session['vm'] = form.vm.data\n",
        "\n",
        "        return redirect(url_for(\"prediction\"))\n",
        "    return render_template('home.html', form=form)"
      ],
      "execution_count": null,
      "outputs": []
    },
    {
      "cell_type": "code",
      "metadata": {
        "id": "9UFu7StVKA65",
        "colab_type": "code",
        "colab": {}
      },
      "source": [
        "\n",
        "model = load_model('ANN1.h5')\n",
        "scaler = joblib.load(\"model1.pkl\",'r')"
      ],
      "execution_count": null,
      "outputs": []
    },
    {
      "cell_type": "code",
      "metadata": {
        "id": "V3t4uhWvKA7C",
        "colab_type": "code",
        "colab": {}
      },
      "source": [
        "@app.route('/prediction')\n",
        "def prediction():\n",
        "    content = {}\n",
        "\n",
        "    content['AVG. ANNUAL TEMPERATURE'] = float(session['t'])\n",
        "    content['ANNUAL AVERAGE MAXIMUM TEMPERATURE'] = float(session['tM'])\n",
        "    content['AVG. ANNUAL MINIMUM TEMPERATURE'] = float(session['tm'])\n",
        "    content['AIR PRESSURE'] = float(session['slp'])\n",
        "    content['AVERAGE RELATIVE HUMIDITY'] = float(session['h'])\n",
        "    content['AVERAGE VISIBILITY'] = float(session['vv'])\n",
        "    content['ANNUAL AVERAGE WIND SPEED'] = float(session['v'])\n",
        "    content['MERCURY VAPOUR'] = float(session['vm'])\n",
        "\n",
        "    results = return_prediction(model,scaler, content)\n",
        "\n",
        "    return render_template('prediction.html', results=results)"
      ],
      "execution_count": null,
      "outputs": []
    },
    {
      "cell_type": "code",
      "metadata": {
        "id": "3Xq2xPotKA7J",
        "colab_type": "code",
        "colab": {}
      },
      "source": [
        "if __name__ == '__main__':\n",
        "    app.run(debug=True)"
      ],
      "execution_count": null,
      "outputs": []
    },
    {
      "cell_type": "code",
      "metadata": {
        "id": "o8YYeivtKA7O",
        "colab_type": "code",
        "colab": {}
      },
      "source": [
        ""
      ],
      "execution_count": null,
      "outputs": []
    },
    {
      "cell_type": "code",
      "metadata": {
        "id": "eHUACjUFKA7T",
        "colab_type": "code",
        "colab": {}
      },
      "source": [
        ""
      ],
      "execution_count": null,
      "outputs": []
    }
  ]
}